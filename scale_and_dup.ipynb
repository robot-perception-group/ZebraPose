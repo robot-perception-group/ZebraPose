{
 "cells": [
  {
   "cell_type": "code",
   "execution_count": 1,
   "id": "6cd2b5d961576d35",
   "metadata": {
    "ExecuteTime": {
     "end_time": "2023-11-09T09:01:33.555959340Z",
     "start_time": "2023-11-09T09:01:32.378650160Z"
    }
   },
   "outputs": [],
   "source": [
    "import fnmatch\n",
    "import json\n",
    "import os\n",
    "\n",
    "import numpy as np\n",
    "from pycocotools import mask\n",
    "from pycocotools.coco import COCO\n",
    "from pycocotools.cocoeval import COCOeval\n",
    "import cv2"
   ]
  },
  {
   "cell_type": "code",
   "execution_count": 2,
   "id": "31c290d6f675fb49",
   "metadata": {
    "ExecuteTime": {
     "end_time": "2023-11-09T09:01:34.236790654Z",
     "start_time": "2023-11-09T09:01:33.383308531Z"
    }
   },
   "outputs": [],
   "source": [
    "import skimage.io as io\n",
    "import matplotlib.pyplot as plt"
   ]
  },
  {
   "cell_type": "code",
   "execution_count": 9,
   "id": "1fa43a37a6ab0336",
   "metadata": {
    "ExecuteTime": {
     "end_time": "2023-12-11T10:41:41.662124872Z",
     "start_time": "2023-12-11T10:41:41.572599232Z"
    }
   },
   "outputs": [],
   "source": [
    "def split_into_tiles(image, num_rows, num_cols):\n",
    "    tiles = []\n",
    "    try:\n",
    "        height, width, _ = image.shape\n",
    "    except:\n",
    "        height, width = image.shape\n",
    "    tile_height = height // num_rows\n",
    "    tile_width = width // num_cols\n",
    "\n",
    "    for i in range(num_rows):\n",
    "        for j in range(num_cols):\n",
    "            y1 = i * tile_height\n",
    "            y2 = (i + 1) * tile_height\n",
    "            x1 = j * tile_width\n",
    "            x2 = (j + 1) * tile_width\n",
    "            tile = image[y1:y2, x1:x2]\n",
    "            tiles.append(tile)\n",
    "\n",
    "    return tiles\n",
    "\n",
    "def save_yolo_bbox_annotations(bbox_list, output_file):\n",
    "    with open(output_file, 'w') as file:\n",
    "        for bbox in bbox_list:\n",
    "            class_id, x_center, y_center, width, height = bbox\n",
    "            file.write(f\"{int(class_id)} {x_center} {y_center} {width} {height}\\n\")\n"
   ]
  },
  {
   "cell_type": "code",
   "execution_count": 72,
   "id": "f7d173b0281b010f",
   "metadata": {
    "ExecuteTime": {
     "end_time": "2023-11-09T15:43:02.726589107Z",
     "start_time": "2023-11-09T15:18:00.292836431Z"
    }
   },
   "outputs": [
    {
     "name": "stdout",
     "output_type": "stream",
     "text": [
      "loading annotations into memory...\n",
      "Done (t=0.38s)\n",
      "creating index...\n",
      "index created!\n",
      "Prossecing image 1440 of 1440\r\n",
      "Done and doner\n"
     ]
    }
   ],
   "source": [
    "kind = 'train'\n",
    "mainf = \"/media/ebonetto/WindowsData/superclose_DS3/DS3_scale3\"\n",
    "outf = \"/media/ebonetto/WindowsData/superclose_DS3/DS3_scale3\"\n",
    "\n",
    "scaling_factor = 3\n",
    "output_prefix = f'DS3_scale{scaling_factor}'\n",
    "\n",
    "mainf_k = os.path.join(mainf, kind)\n",
    "outf_k = os.path.join(outf, kind)\n",
    "json_file = os.path.join(mainf_k,'masks',f\"{kind}_annos_gt.json\")\n",
    "\n",
    "coco = COCO(json_file)\n",
    "\n",
    "imgIds = coco.getImgIds()\n",
    "for im_id, im in enumerate(imgIds):\n",
    "    print(f\"Prossecing image {im_id+1} of {len(imgIds)}\", end='\\r')\n",
    "    img = coco.loadImgs(im)[0]\n",
    "    fname = img['file_name']\n",
    "    image_path = os.path.join(mainf_k, 'images', fname)\n",
    "    image = cv2.imread(image_path)\n",
    "    image = cv2.resize(image, None, fx=scaling_factor, fy=scaling_factor)\n",
    "    \n",
    "    annIds = coco.getAnnIds(imgIds=img['id'])\n",
    "    anns = coco.loadAnns(annIds)\n",
    "    scaled_segm = []\n",
    "    for ann in anns:\n",
    "        coord = coco.annToMask(ann)\n",
    "        coord = cv2.resize(coord, None, fx=scaling_factor, fy=scaling_factor, interpolation=cv2.INTER_NEAREST)\n",
    "        scaled_segm.append((coord, ann['category_id']))\n",
    "    \n",
    "    tiles = split_into_tiles(image, scaling_factor, scaling_factor)\n",
    "    \n",
    "    for i, tile in enumerate(tiles):\n",
    "        output_image_path = os.path.join(outf_k, 'images', f\"{output_prefix}_{fname[:-4]}_{i+1}.jpg\")\n",
    "        output_bbox_file = os.path.join(outf_k,'labels',f\"{output_prefix}_{fname[:-4]}_{i+1}.txt\")\n",
    "    \n",
    "        if outf_k != mainf_k:\n",
    "            import shutil\n",
    "            shutil.copy(os.path.join(mainf_k, 'labels', fname[:-4]+'.txt'), os.path.join(outf_k, 'labels', output_prefix+\"_\"+fname[:-4]+'.txt'))\n",
    "            shutil.copy(os.path.join(mainf_k, 'images', fname), os.path.join(outf_k, 'images', output_prefix+\"_\"+fname))\n",
    "    \n",
    "        tile_height, tile_width, _ = tile.shape\n",
    "        scaled_bboxes = []\n",
    "        for ss, class_id in scaled_segm:\n",
    "            tiles_ss = split_into_tiles(ss, scaling_factor, scaling_factor)\n",
    "            tile_ss = tiles_ss[i]\n",
    "            if np.sum(tile_ss) > 0:\n",
    "                tmp_where = np.where(tile_ss == 1)\n",
    "                x_center = np.mean(tmp_where[1])\n",
    "                y_center = np.mean(tmp_where[0])\n",
    "                box_w = np.max(tmp_where[1]) - np.min(tmp_where[1])\n",
    "                box_h = np.max(tmp_where[0]) - np.min(tmp_where[0])\n",
    "                \n",
    "                scaled_bboxes.append([class_id==5, x_center/tile_width, y_center/tile_height, box_w/tile_width, box_h/tile_height])\n",
    "       \n",
    "        # Save the tile image and bounding box annotations\n",
    "        cv2.imwrite(output_image_path, tile)\n",
    "        save_yolo_bbox_annotations(scaled_bboxes, output_bbox_file)\n",
    "print()\n",
    "print(\"Done and doner\")"
   ]
  },
  {
   "cell_type": "code",
   "execution_count": 73,
   "id": "ead1f2550ee0803a",
   "metadata": {
    "ExecuteTime": {
     "end_time": "2023-11-09T15:48:52.580632319Z",
     "start_time": "2023-11-09T15:43:02.723025971Z"
    }
   },
   "outputs": [
    {
     "name": "stdout",
     "output_type": "stream",
     "text": [
      "loading annotations into memory...\n",
      "Done (t=0.09s)\n",
      "creating index...\n",
      "index created!\n",
      "Prossecing image 360 of 360\r\n",
      "Done and doner\n"
     ]
    }
   ],
   "source": [
    "kind = 'val'\n",
    "\n",
    "mainf_k = os.path.join(mainf, kind)\n",
    "outf_k = os.path.join(outf, kind)\n",
    "json_file = os.path.join(mainf_k,'masks',f\"{kind}_annos_gt.json\")\n",
    "\n",
    "coco = COCO(json_file)\n",
    "\n",
    "imgIds = coco.getImgIds()\n",
    "for im_id, im in enumerate(imgIds):\n",
    "    print(f\"Prossecing image {im_id+1} of {len(imgIds)}\", end='\\r')\n",
    "    img = coco.loadImgs(im)[0]\n",
    "    fname = img['file_name']\n",
    "    image_path = os.path.join(mainf_k, 'images', fname)\n",
    "    image = cv2.imread(image_path)\n",
    "    image = cv2.resize(image, None, fx=scaling_factor, fy=scaling_factor)\n",
    "    \n",
    "    annIds = coco.getAnnIds(imgIds=img['id'])\n",
    "    anns = coco.loadAnns(annIds)\n",
    "    scaled_segm = []\n",
    "    for ann in anns:\n",
    "        coord = coco.annToMask(ann)\n",
    "        coord = cv2.resize(coord, None, fx=scaling_factor, fy=scaling_factor, interpolation=cv2.INTER_NEAREST)\n",
    "        scaled_segm.append((coord, ann['category_id']))\n",
    "    \n",
    "    tiles = split_into_tiles(image, scaling_factor, scaling_factor)\n",
    "    \n",
    "    for i, tile in enumerate(tiles):\n",
    "        output_image_path = os.path.join(outf_k, 'images', f\"{output_prefix}_{fname[:-4]}_{i+1}.jpg\")\n",
    "        output_bbox_file = os.path.join(outf_k,'labels',f\"{output_prefix}_{fname[:-4]}_{i+1}.txt\")\n",
    "    \n",
    "        if outf_k != mainf_k:\n",
    "            import shutil\n",
    "            shutil.copy(os.path.join(mainf_k, 'labels', fname[:-4]+'.txt'), os.path.join(outf_k, 'labels', output_prefix+\"_\"+fname[:-4]+'.txt'))\n",
    "            shutil.copy(os.path.join(mainf_k, 'images', fname), os.path.join(outf_k, 'images', output_prefix+\"_\"+fname))\n",
    "    \n",
    "        tile_height, tile_width, _ = tile.shape\n",
    "        scaled_bboxes = []\n",
    "        \n",
    "        for ss, class_id in scaled_segm:\n",
    "            minx = tile_width * (i % scaling_factor)\n",
    "            maxx = tile_width * (i % scaling_factor + 1)\n",
    "            miny = tile_height * (i // scaling_factor)\n",
    "            maxy = tile_height * (i // scaling_factor + 1)\n",
    "            \n",
    "            tile_ss = ss[miny:maxy, minx:maxx]\n",
    "            \n",
    "            if np.sum(tile_ss) > 0:\n",
    "                tmp_where = np.where(tile_ss == 1)\n",
    "                x_center = np.mean(tmp_where[1])\n",
    "                y_center = np.mean(tmp_where[0])\n",
    "                box_w = np.max(tmp_where[1]) - np.min(tmp_where[1])\n",
    "                box_h = np.max(tmp_where[0]) - np.min(tmp_where[0])\n",
    "                \n",
    "                scaled_bboxes.append([class_id==5, x_center/tile_width, y_center/tile_height, box_w/tile_width, box_h/tile_height])\n",
    "       \n",
    "        # Save the tile image and bounding box annotations\n",
    "        cv2.imwrite(output_image_path, tile)\n",
    "        save_yolo_bbox_annotations(scaled_bboxes, output_bbox_file)\n",
    "print()\n",
    "print(\"Done and doner\")"
   ]
  },
  {
   "cell_type": "markdown",
   "id": "ef210ee716bcc2bb",
   "metadata": {},
   "source": [
    "# Zoom around a bounding box and sharpen the image"
   ]
  },
  {
   "cell_type": "code",
   "execution_count": 1,
   "id": "b662fcf0d57d0a8a",
   "metadata": {
    "ExecuteTime": {
     "end_time": "2023-12-18T09:10:23.421746784Z",
     "start_time": "2023-12-18T09:10:22.525093833Z"
    }
   },
   "outputs": [],
   "source": [
    "import cv2\n",
    "import numpy as np\n",
    "import json\n",
    "\n",
    "import fnmatch\n",
    "import os\n",
    "\n",
    "from pycocotools import mask\n",
    "from pycocotools.coco import COCO\n",
    "from pycocotools.cocoeval import COCOeval\n",
    "\n",
    "import skimage\n",
    "import matplotlib.pyplot as plt"
   ]
  },
  {
   "cell_type": "code",
   "execution_count": 2,
   "id": "3a6016fdbaf129e9",
   "metadata": {
    "ExecuteTime": {
     "end_time": "2023-12-18T09:10:27.364774250Z",
     "start_time": "2023-12-18T09:10:23.348973992Z"
    }
   },
   "outputs": [
    {
     "name": "stdout",
     "output_type": "stream",
     "text": [
      "loading annotations into memory...\n",
      "Done (t=2.42s)\n",
      "creating index...\n",
      "index created!\n"
     ]
    }
   ],
   "source": [
    "mf = '/media/ebonetto/WindowsData/Testing_yolo/ZEBRA_DS_CLOSE/train/'\n",
    "\n",
    "json_file = os.path.join(mf, 'masks/train_annos_gt.json')\n",
    "\n",
    "coco = COCO(json_file)"
   ]
  },
  {
   "cell_type": "code",
   "execution_count": 3,
   "id": "63a8da4121801a4a",
   "metadata": {
    "ExecuteTime": {
     "end_time": "2023-12-18T09:10:27.366387842Z",
     "start_time": "2023-12-18T09:10:27.241213220Z"
    }
   },
   "outputs": [],
   "source": [
    "def scale(ann, image, prep_segm, off=150):\n",
    "    # crop image around the ann['bbox'] + random offset (+/- 300 pixels)\n",
    "    bbox = ann['bbox']\n",
    "        \n",
    "    rect = np.array([bbox[0], bbox[1], bbox[0]+bbox[2], bbox[1]+bbox[3]])\n",
    "    # add random offset\n",
    "    rect += np.array([np.random.randint(-off,0), np.random.randint(-off,0), np.random.randint(0,off), np.random.randint(0,off)])\n",
    "    rect[2:] = np.clip(rect[2:], 0, image.shape[1])\n",
    "    rect[:2] = np.clip(rect[:2], 0, image.shape[0])\n",
    "    #return None, None, rect\n",
    "    # crop image\n",
    "    crop = image[rect[1]:rect[3], rect[0]:rect[2]]\n",
    "\n",
    "    new_img = np.array(skimage.transform.resize(crop, (1080, 1920), anti_aliasing=True)*255).astype(np.uint8)\n",
    "\n",
    "    segms = []\n",
    "    for ss, class_id in prep_segm:\n",
    "        if np.sum(ss[rect[1]:rect[3], rect[0]:rect[2]]) > 0:\n",
    "            tmp = np.array(skimage.transform.resize(ss[rect[1]:rect[3], rect[0]:rect[2]], (1080, 1920), anti_aliasing=True)*255).astype(np.uint8)\n",
    "            if np.max(tmp) > 0:\n",
    "                segms.append((class_id, tmp))\n",
    "    return new_img, segms, rect"
   ]
  },
  {
   "cell_type": "code",
   "execution_count": 10,
   "id": "77327bdaf38fc797",
   "metadata": {
    "ExecuteTime": {
     "end_time": "2023-12-18T09:10:27.451795451Z",
     "start_time": "2023-12-18T09:10:27.255788644Z"
    }
   },
   "outputs": [],
   "source": [
    "def get_bboxes_from_segm(tile, segms):\n",
    "    tile_height, tile_width, _ = tile\n",
    "    scaled_bboxes = []\n",
    "    \n",
    "    for class_id, ss in segms:\n",
    "        tmp_where = np.where(ss == 1)\n",
    "        x_center = np.mean(tmp_where[1])\n",
    "        y_center = np.mean(tmp_where[0])\n",
    "        box_w = min(tile_width, np.max(tmp_where[1]) + 5) - max(0, np.min(tmp_where[1]) - 5)\n",
    "        box_h = min(tile_height, np.max(tmp_where[0]) + 5) - max(0, np.min(tmp_where[0]) - 5)\n",
    "        \n",
    "        scaled_bboxes.append([class_id==5, x_center/tile_width, y_center/tile_height, box_w/tile_width, box_h/tile_height])\n",
    "    return scaled_bboxes\n",
    "\n",
    "def save_yolo_bbox_annotations(bbox_list, output_file):\n",
    "    with open(output_file, 'w') as file:\n",
    "        for bbox in bbox_list:\n",
    "            class_id, x_center, y_center, width, height = bbox\n",
    "            file.write(f\"{int(class_id)} {x_center} {y_center} {width} {height}\\n\")"
   ]
  },
  {
   "cell_type": "code",
   "execution_count": 5,
   "id": "38220489808b6327",
   "metadata": {
    "ExecuteTime": {
     "end_time": "2023-12-18T09:10:27.543348721Z",
     "start_time": "2023-12-18T09:10:27.264028237Z"
    }
   },
   "outputs": [],
   "source": [
    "def is_rectangle_outside(crect, prect):\n",
    "   # crect = np.array([crect[0], crect[1], crect[0]+crect[2], crect[1]+crect[3]]) # top left x, top left y, bottom right x, bottom right y\n",
    "   # prect = np.array([prect[0], prect[1], prect[0]+prect[2], prect[1]+prect[3]])\n",
    "\n",
    "   # Check if crect is to the left of prect\n",
    "   if crect[0] > prect[2]:\n",
    "       return True\n",
    "\n",
    "   # Check if crect is above prect\n",
    "   if crect[1] > prect[3]:\n",
    "       return True\n",
    "\n",
    "   # Check if crect is to the right of prect\n",
    "   if crect[2] < prect[0]:\n",
    "       return True\n",
    "\n",
    "   # Check if crect is below prect\n",
    "   if crect[3] < prect[1]:\n",
    "       return True\n",
    "\n",
    "   # If none of the above conditions is true, then crect is not outside prect\n",
    "   return False"
   ]
  },
  {
   "cell_type": "code",
   "execution_count": 30,
   "id": "fb42e56a",
   "metadata": {
    "ExecuteTime": {
     "end_time": "2023-12-18T09:54:01.822511853Z",
     "start_time": "2023-12-18T09:32:35.028922726Z"
    }
   },
   "outputs": [
    {
     "name": "stdout",
     "output_type": "stream",
     "text": [
      "Prossecing image 3599 of 3599\r"
     ]
    }
   ],
   "source": [
    "# get the first image which has a bbox greater than 400 pixels\n",
    "# this is used to cnt instances -> use the par code below\n",
    "imgIds = coco.getImgIds()\n",
    "cnt = 0\n",
    "cnt_neg = 0\n",
    "image = np.zeros((1920,1080))\n",
    "\n",
    "for im_id, im in enumerate(imgIds):\n",
    "    print(f\"Prossecing image {im_id+1} of {len(imgIds)}\", end='\\r')\n",
    "    img = coco.loadImgs(im)[0]\n",
    "    fname = img['file_name']\n",
    "    \n",
    "    annIds = coco.getAnnIds(imgIds=img['id'])\n",
    "    anns = coco.loadAnns(annIds)\n",
    "    prep_segm = []\n",
    "    for ann in anns:\n",
    "        coord = coco.annToMask(ann)\n",
    "        prep_segm.append((coord, ann['category_id']))\n",
    "    prev_rect = [0,0,0,0]\n",
    "    for ann in anns:\n",
    "        crect = ann['bbox']\n",
    "        crect = np.array([crect[0], crect[1], crect[0]+crect[2], crect[1]+crect[3]])\n",
    "        # check if crect is outside prev_rect\n",
    "        if is_rectangle_outside(crect, prev_rect):\n",
    "            if ann['area'] > 5000:\n",
    "                cnt += 1\n",
    "                # image = cv2.imread(os.path.join(mf, 'images', fname))\n",
    "                new_img, new_segm, prev_rect = scale(ann, image, prep_segm)\n",
    "                continue\n",
    "                cv2.imwrite(os.path.join(mf, 'images', f'zoomed_{cnt}_'+fname), new_img)\n",
    "                bboxes = get_bboxes_from_segm(new_img.shape, new_segm)\n",
    "                output_bbox_file = os.path.join(mf,'labels',f'zoomed_{cnt}_'+fname[:-4]+'.txt')\n",
    "                save_yolo_bbox_annotations(bboxes, output_bbox_file)\n",
    "    # print(f\"cnt {cnt} cnt_neg {cnt_neg}\")"
   ]
  },
  {
   "cell_type": "code",
   "execution_count": 31,
   "id": "137329cb",
   "metadata": {},
   "outputs": [
    {
     "data": {
      "text/plain": [
       "7639"
      ]
     },
     "execution_count": 31,
     "metadata": {},
     "output_type": "execute_result"
    }
   ],
   "source": [
    "cnt+3599"
   ]
  },
  {
   "cell_type": "code",
   "execution_count": 6,
   "id": "826558f4b7136e21",
   "metadata": {
    "ExecuteTime": {
     "end_time": "2023-12-11T13:36:01.628273683Z",
     "start_time": "2023-12-11T13:36:01.586705465Z"
    }
   },
   "outputs": [],
   "source": [
    "# write the same code as before but parallel\n",
    "import multiprocessing as mp\n",
    "import time\n",
    "import random\n",
    "import cv2\n",
    "import numpy as np\n",
    "import json\n",
    "\n",
    "def process_image(im):\n",
    "    img = coco.loadImgs(im)[0]\n",
    "    fname = img['file_name']\n",
    "    \n",
    "    annIds = coco.getAnnIds(imgIds=img['id'])\n",
    "    anns = coco.loadAnns(annIds)\n",
    "    prep_segm = []\n",
    "    for ann in anns:\n",
    "        coord = coco.annToMask(ann)\n",
    "        prep_segm.append((coord, ann['category_id']))\n",
    "    prev_rect = [0,0,0,0]\n",
    "    cnt = 0\n",
    "    \n",
    "    for ann in anns:\n",
    "        crect = ann['bbox']\n",
    "        crect = np.array([crect[0], crect[1], crect[0]+crect[2], crect[1]+crect[3]])\n",
    "        # check if crect is outside prev_rect\n",
    "        if is_rectangle_outside(crect, prev_rect):\n",
    "            if ann['area'] > 5000:\n",
    "                cnt += 1\n",
    "                image = cv2.imread(os.path.join(mf, 'images', fname))\n",
    "                new_img, new_segm, prev_rect = scale(ann, image, prep_segm)\n",
    "                cv2.imwrite(os.path.join(mf, 'images', f'zoomed_{cnt}_'+fname), new_img)\n",
    "                bboxes = get_bboxes_from_segm(new_img.shape, new_segm)\n",
    "                output_bbox_file = os.path.join(mf,'labels',f'zoomed_{cnt}_'+fname[:-4]+'.txt')\n",
    "                save_yolo_bbox_annotations(bboxes, output_bbox_file)\n",
    "    return \"\""
   ]
  },
  {
   "cell_type": "code",
   "execution_count": 11,
   "id": "8e2d2800fc53eea6",
   "metadata": {
    "ExecuteTime": {
     "end_time": "2023-12-11T14:04:16.425799259Z",
     "start_time": "2023-12-11T13:36:46.889281850Z"
    }
   },
   "outputs": [
    {
     "name": "stdout",
     "output_type": "stream",
     "text": [
      "Processing image 14401 of 14401\r"
     ]
    }
   ],
   "source": [
    "from multiprocessing import Pool\n",
    "\n",
    "imgIds = coco.getImgIds()\n",
    "\n",
    "if __name__ == '__main__':\n",
    "  with Pool() as p:\n",
    "      cnt = 0\n",
    "      for _ in p.imap_unordered(process_image, imgIds):\n",
    "          cnt += 1\n",
    "          print(f\"Processing image {cnt} of {len(imgIds)}\", end='\\r')\n"
   ]
  },
  {
   "cell_type": "code",
   "execution_count": null,
   "id": "6083296130cd4832",
   "metadata": {},
   "outputs": [],
   "source": []
  }
 ],
 "metadata": {
  "kernelspec": {
   "display_name": "Python 3 (ipykernel)",
   "language": "python",
   "name": "python3"
  },
  "language_info": {
   "codemirror_mode": {
    "name": "ipython",
    "version": 3
   },
   "file_extension": ".py",
   "mimetype": "text/x-python",
   "name": "python",
   "nbconvert_exporter": "python",
   "pygments_lexer": "ipython3",
   "version": "3.8.10"
  }
 },
 "nbformat": 4,
 "nbformat_minor": 5
}
